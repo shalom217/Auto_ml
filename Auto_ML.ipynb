{
  "nbformat": 4,
  "nbformat_minor": 0,
  "metadata": {
    "colab": {
      "name": "Lannet_Test.ipynb",
      "provenance": [],
      "collapsed_sections": []
    },
    "kernelspec": {
      "name": "python3",
      "display_name": "Python 3"
    }
  },
  "cells": [
    {
      "cell_type": "code",
      "metadata": {
        "id": "Qf4HUDKnnb9a",
        "colab_type": "code",
        "colab": {}
      },
      "source": [
        "import pandas as pd\n",
        "from scipy.stats import pearsonr\n",
        "import numpy as np"
      ],
      "execution_count": 1,
      "outputs": []
    },
    {
      "cell_type": "markdown",
      "metadata": {
        "id": "QlS5Wzh0otxY",
        "colab_type": "text"
      },
      "source": [
        "As mentioned in the assignment no data is perfect in realworld likewise a code cannot work on any type of data because each data have diffrent property so code need to be modified as per the problem statement and datasets requirements.\n"
      ]
    },
    {
      "cell_type": "markdown",
      "metadata": {
        "id": "SPjqS67apwe2",
        "colab_type": "text"
      },
      "source": [
        "1st Question!!!!\n",
        "Here i made a function. The primary assumption is that dataset must be having date column/columns in it because we are going to work on dates only so this is the requirement.\n",
        "Secondally in my dataset i'm having Date1 Date2 and Date3 in my dataset, this is not a fixed thing for every dataset so this thing must be changed/modified based on the features names we can have(e.g sometime we can have date/DATE,Years and others). \n"
      ]
    },
    {
      "cell_type": "markdown",
      "metadata": {
        "id": "vSq0KZ-trFgd",
        "colab_type": "text"
      },
      "source": [
        "So basically previously i have three date columns in my dataset namely Date1 Date2 and Date3, after the execution it is now converted into six columns such as three previous columns(Date1 Date2 and Date3) and three new columns(new1  new2  new3)\n",
        "new1=date1-date2,\n",
        "new2=date2-date3,\n",
        "new3=date3-date1 as mentioned in the assignment."
      ]
    },
    {
      "cell_type": "markdown",
      "metadata": {
        "id": "M8xTUL5npcLj",
        "colab_type": "text"
      },
      "source": [
        ""
      ]
    },
    {
      "cell_type": "code",
      "metadata": {
        "id": "HrtrCgx1nnia",
        "colab_type": "code",
        "colab": {}
      },
      "source": [
        "import pandas as pd\n",
        "def my_date_func():\n",
        "    #path=r\"C:\\Users\\shalo\\Desktop\\ML stuffs\\test\\lannet\\dates.csv\"#path of dataset\n",
        "    df=pd.read_csv(\"/dates.csv\")#1.data input as dataFrame\n",
        "    df_old=df.copy()#copying main data for refrence\n",
        "    dates=[feature for feature in df.columns if 'Date' in feature ]#2.identifying which columns having date(*in my case ,I'm having \"Date\" in my dataset date columns names,this can be diffrent of diffrent datasets)\n",
        "    #above written loop will traverse through each columns of the dataframe and will pick only Columns having \"Date\" in them\n",
        "    format = \"%d-%m-%Y\"#Validiating columns(now we will set a particular format of date for validiating the dates features, this will block invalid entries)\n",
        "    for i in range(len(dates)):#the loop will run as per the number of date features we got from the dataset\n",
        "        for j in range(len(df[dates[i]])):#this loop will traverse through each and every entries of each and every date columns to check them\n",
        "            date_string=df[dates[i]].values[j]#will pick up each entry\n",
        "            try:\n",
        "                datetime.datetime.strptime(date_string, format)#if entries found to be in the specified format then we will keep that entry\n",
        "            except:\n",
        "                df[dates[i]].drop([j])#if the entry found out of the specified format(invalid entry) then that entry be removed\n",
        "    df[dates].dropna(inplace=True)#after dropping invalid entries we will be having lots of nan values in our data set so those nan values must be removed \n",
        "    for k in range(len(dates)):\n",
        "        df[dates[k]]=pd.to_datetime(df[dates[k]])#Making same format for diffrent formats and preparing them for diffrence\n",
        "    #4.now diffrence\n",
        "    for l in range(len(dates)):\n",
        "        try:\n",
        "            df['new'+str(l+1)]=(df[dates[l]]-df[dates[l+1]]).dt.days#date1-date2,date2-date3\n",
        "        except:\n",
        "            df['new'+str(l+1)]=(df[dates[l]]-df[dates[l-2]]).dt.days#date3-date1\n",
        "    return df,df_old"
      ],
      "execution_count": 26,
      "outputs": []
    },
    {
      "cell_type": "code",
      "metadata": {
        "id": "sLvbNZBNnnuE",
        "colab_type": "code",
        "colab": {}
      },
      "source": [
        "new,old=my_date_func()"
      ],
      "execution_count": 27,
      "outputs": []
    },
    {
      "cell_type": "code",
      "metadata": {
        "id": "K7TdNH9qnnw-",
        "colab_type": "code",
        "colab": {
          "base_uri": "https://localhost:8080/",
          "height": 212
        },
        "outputId": "fc1ca66c-ed62-4d43-fe12-b73bfef0711f"
      },
      "source": [
        "print(\"*************New dataframe************\")\n",
        "new.head()"
      ],
      "execution_count": 28,
      "outputs": [
        {
          "output_type": "stream",
          "text": [
            "*************New dataframe************\n"
          ],
          "name": "stdout"
        },
        {
          "output_type": "execute_result",
          "data": {
            "text/html": [
              "<div>\n",
              "<style scoped>\n",
              "    .dataframe tbody tr th:only-of-type {\n",
              "        vertical-align: middle;\n",
              "    }\n",
              "\n",
              "    .dataframe tbody tr th {\n",
              "        vertical-align: top;\n",
              "    }\n",
              "\n",
              "    .dataframe thead th {\n",
              "        text-align: right;\n",
              "    }\n",
              "</style>\n",
              "<table border=\"1\" class=\"dataframe\">\n",
              "  <thead>\n",
              "    <tr style=\"text-align: right;\">\n",
              "      <th></th>\n",
              "      <th>Date1</th>\n",
              "      <th>Date2</th>\n",
              "      <th>Date3</th>\n",
              "      <th>new1</th>\n",
              "      <th>new2</th>\n",
              "      <th>new3</th>\n",
              "    </tr>\n",
              "  </thead>\n",
              "  <tbody>\n",
              "    <tr>\n",
              "      <th>0</th>\n",
              "      <td>2016-11-21</td>\n",
              "      <td>2018-07-13</td>\n",
              "      <td>2020-02-02</td>\n",
              "      <td>-599</td>\n",
              "      <td>-569</td>\n",
              "      <td>1168</td>\n",
              "    </tr>\n",
              "    <tr>\n",
              "      <th>1</th>\n",
              "      <td>2016-11-22</td>\n",
              "      <td>2018-07-14</td>\n",
              "      <td>2020-03-02</td>\n",
              "      <td>-599</td>\n",
              "      <td>-597</td>\n",
              "      <td>1196</td>\n",
              "    </tr>\n",
              "    <tr>\n",
              "      <th>2</th>\n",
              "      <td>2016-11-23</td>\n",
              "      <td>2018-07-15</td>\n",
              "      <td>2020-04-02</td>\n",
              "      <td>-599</td>\n",
              "      <td>-627</td>\n",
              "      <td>1226</td>\n",
              "    </tr>\n",
              "    <tr>\n",
              "      <th>3</th>\n",
              "      <td>2016-11-24</td>\n",
              "      <td>2018-07-16</td>\n",
              "      <td>2020-05-02</td>\n",
              "      <td>-599</td>\n",
              "      <td>-656</td>\n",
              "      <td>1255</td>\n",
              "    </tr>\n",
              "    <tr>\n",
              "      <th>4</th>\n",
              "      <td>2016-11-25</td>\n",
              "      <td>2018-07-17</td>\n",
              "      <td>2020-06-02</td>\n",
              "      <td>-599</td>\n",
              "      <td>-686</td>\n",
              "      <td>1285</td>\n",
              "    </tr>\n",
              "  </tbody>\n",
              "</table>\n",
              "</div>"
            ],
            "text/plain": [
              "       Date1      Date2      Date3  new1  new2  new3\n",
              "0 2016-11-21 2018-07-13 2020-02-02  -599  -569  1168\n",
              "1 2016-11-22 2018-07-14 2020-03-02  -599  -597  1196\n",
              "2 2016-11-23 2018-07-15 2020-04-02  -599  -627  1226\n",
              "3 2016-11-24 2018-07-16 2020-05-02  -599  -656  1255\n",
              "4 2016-11-25 2018-07-17 2020-06-02  -599  -686  1285"
            ]
          },
          "metadata": {
            "tags": []
          },
          "execution_count": 28
        }
      ]
    },
    {
      "cell_type": "code",
      "metadata": {
        "id": "ijCg71VjA44m",
        "colab_type": "code",
        "colab": {
          "base_uri": "https://localhost:8080/",
          "height": 212
        },
        "outputId": "c5c1a353-dc6c-45ed-bbe2-b28a88ce7b2b"
      },
      "source": [
        "print(\"*************Old dataframe************\")\n",
        "old.head()"
      ],
      "execution_count": 29,
      "outputs": [
        {
          "output_type": "stream",
          "text": [
            "*************Old dataframe************\n"
          ],
          "name": "stdout"
        },
        {
          "output_type": "execute_result",
          "data": {
            "text/html": [
              "<div>\n",
              "<style scoped>\n",
              "    .dataframe tbody tr th:only-of-type {\n",
              "        vertical-align: middle;\n",
              "    }\n",
              "\n",
              "    .dataframe tbody tr th {\n",
              "        vertical-align: top;\n",
              "    }\n",
              "\n",
              "    .dataframe thead th {\n",
              "        text-align: right;\n",
              "    }\n",
              "</style>\n",
              "<table border=\"1\" class=\"dataframe\">\n",
              "  <thead>\n",
              "    <tr style=\"text-align: right;\">\n",
              "      <th></th>\n",
              "      <th>Date1</th>\n",
              "      <th>Date2</th>\n",
              "      <th>Date3</th>\n",
              "    </tr>\n",
              "  </thead>\n",
              "  <tbody>\n",
              "    <tr>\n",
              "      <th>0</th>\n",
              "      <td>21-11-2016</td>\n",
              "      <td>13-07-2018</td>\n",
              "      <td>02-02-2020</td>\n",
              "    </tr>\n",
              "    <tr>\n",
              "      <th>1</th>\n",
              "      <td>22-11-2016</td>\n",
              "      <td>14-07-2018</td>\n",
              "      <td>03-02-2020</td>\n",
              "    </tr>\n",
              "    <tr>\n",
              "      <th>2</th>\n",
              "      <td>23-11-2016</td>\n",
              "      <td>15-07-2018</td>\n",
              "      <td>04-02-2020</td>\n",
              "    </tr>\n",
              "    <tr>\n",
              "      <th>3</th>\n",
              "      <td>24-11-2016</td>\n",
              "      <td>16-07-2018</td>\n",
              "      <td>05-02-2020</td>\n",
              "    </tr>\n",
              "    <tr>\n",
              "      <th>4</th>\n",
              "      <td>25-11-2016</td>\n",
              "      <td>17-07-2018</td>\n",
              "      <td>06-02-2020</td>\n",
              "    </tr>\n",
              "  </tbody>\n",
              "</table>\n",
              "</div>"
            ],
            "text/plain": [
              "        Date1       Date2       Date3\n",
              "0  21-11-2016  13-07-2018  02-02-2020\n",
              "1  22-11-2016  14-07-2018  03-02-2020\n",
              "2  23-11-2016  15-07-2018  04-02-2020\n",
              "3  24-11-2016  16-07-2018  05-02-2020\n",
              "4  25-11-2016  17-07-2018  06-02-2020"
            ]
          },
          "metadata": {
            "tags": []
          },
          "execution_count": 29
        }
      ]
    },
    {
      "cell_type": "markdown",
      "metadata": {
        "id": "Y5bllEQisXy7",
        "colab_type": "text"
      },
      "source": [
        "2nd Question!!!\n",
        "This is the another function. In this we are seprating target column first and then we will check pearson correlation of all other columns with this seprated target feature. If correlation of target column and any other feature is more than 0.85 that column will be dropped.\n",
        "One thing to remember name of target column for each data set is diffrent, as in my case name of target feature is \"Target\" so this is varying(can be changed as per the nature of dataset).\n",
        "Also to prevent dropping of most columns, i am using 70% of total columns will be preserved and only 30% columns will only be dropped for example if we have 10 columns in our data set(as i'm using in dummy dataset)\n",
        "and all 10 columns are having correlation more than 0.85 so only 3 columns would be dropped rest 7 columns would be preserved."
      ]
    },
    {
      "cell_type": "code",
      "metadata": {
        "id": "soXkMQp1-Log",
        "colab_type": "code",
        "colab": {}
      },
      "source": [
        ""
      ],
      "execution_count": null,
      "outputs": []
    },
    {
      "cell_type": "code",
      "metadata": {
        "id": "XppXry-1nnzx",
        "colab_type": "code",
        "colab": {}
      },
      "source": [
        "import pandas as pd\n",
        "from scipy.stats import pearsonr\n",
        "def drop_cols():\n",
        "    #path1=r\"C:\\Users\\shalo\\Desktop\\ML stuffs\\machine_learning_pipelines\\Advanced-House-Price-Prediction--master\\train.csv\" #path of csv file/dataset\n",
        "    data=pd.read_csv(\"/test.csv\")# Taking dataframe as input\n",
        "    TARGET_CLASS=data[\"Target\"]# Seprating the dependent/target feature from the data set(this must be changed for every data set beacuse every dataset can have a diffrent name of target features)\n",
        "    dep_cols=data.drop(\"Target\", axis=1)#taking all the dependent features together\n",
        "    cols=[feature for feature in dep_cols.columns if dep_cols[feature].dtypes!='O']#in dependents features we can have categorical features also so we will be taking only numerical features to calculate correlation with target feature(here dtypes!='O' means data type is not object type)\n",
        "    #above written loop will traverse through each and every dependent column and will take only numerical columns\n",
        "    data1=data[cols]#data1 dataframe will have only numerical dependent features\n",
        "    c=0#nothing but a counter to count how many columns have Pearson correlation more than 0.85 out of all the numerical columns\n",
        "    li=[]#will store the value of Pearson correlation\n",
        "    for i in range(len(cols)):#will traverse through each column having numerical datatype\n",
        "        median_value=data[cols[i]].median()\n",
        "        data[cols[i]].fillna(median_value,inplace=True)#if any column is having null values we will fill that with taking median of that column only\n",
        "        corr, _ = pearsonr(data[cols[i]],TARGET_CLASS)#now the main task is to take pearson correlation of target with any other numerical column\n",
        "        if corr>0.85:#if correlation of that particular column and target column comes more than 0.85 that column will be removed from data1 dataframe which is having only numerical features(we are not dropping from main dataset just to visualise before and after effect )\n",
        "            if (len(data1.columns)/len(cols))>0.7:#this will make sure only least amount of varibales get dropped(here i'm taking only 70% of the total columns)\n",
        "                data1=data1.drop(cols[i],axis=1)\n",
        "                c+=1#will count\n",
        "                li.append(corr)\n",
        "            else:\n",
        "                c+=1\n",
        "                li.append(corr)\n",
        "            \n",
        "        else:#other wise we will keep that column if Pearson correlation not more than 0.85\n",
        "            continue\n",
        "    print(\"Total number of previous columns:\",len(cols))#it will tell us all the numerical columns previosly we had\n",
        "    print(\"Total number of new columns:\", len(data1.columns))#since we are dropping columns from data1 dataframe which is having only numerical features so will count the all those columns which are now left\n",
        "    if len(cols)==len(data1.columns):\n",
        "        print(\"no column have Pearson correlation more than 0.85,So no column is dropped\")\n",
        "    else:\n",
        "        print(\"Total\",len(cols)-len(data1.columns),\"columns dropped\")\n",
        "        print(\"Total number of columns having Pearson correlation more than 0.85 are/is:\",c)\n",
        "        print(\"Pearson correlation as follows:\", li)\n",
        "    data1[\"Target\"]=data[\"Target\"]#since data1 dataframe having only numerical dependent features so we will target column also into it\n",
        "    return data, data1"
      ],
      "execution_count": 30,
      "outputs": []
    },
    {
      "cell_type": "code",
      "metadata": {
        "id": "uwx50fIVoe5-",
        "colab_type": "code",
        "colab": {
          "base_uri": "https://localhost:8080/",
          "height": 121
        },
        "outputId": "7c9e8443-d930-4229-fa94-b040ec2277c3"
      },
      "source": [
        "old,new=drop_cols()"
      ],
      "execution_count": 31,
      "outputs": [
        {
          "output_type": "stream",
          "text": [
            "Total number of previous columns: 10\n",
            "Total number of new columns: 7\n",
            "Total 3 columns dropped\n",
            "Total number of columns having Pearson correlation more than 0.85 are/is: 10\n",
            "Pearson correlation as follows: [0.9782416184887599, 0.9782416184887599, 0.9782416184887599, 0.9782416184887599, 0.9782416184887599, 0.9782416184887599, 0.9782416184887599, 0.9782416184887599, 0.9782416184887599, 0.9782416184887599]\n"
          ],
          "name": "stdout"
        }
      ]
    },
    {
      "cell_type": "code",
      "metadata": {
        "id": "UjHU0sgAonjG",
        "colab_type": "code",
        "colab": {
          "base_uri": "https://localhost:8080/",
          "height": 212
        },
        "outputId": "7f41fff0-5adb-41a9-a172-3089bcdbf6af"
      },
      "source": [
        "print(\"*************Old dataframe************\")\n",
        "old.head()"
      ],
      "execution_count": 32,
      "outputs": [
        {
          "output_type": "stream",
          "text": [
            "*************Old dataframe************\n"
          ],
          "name": "stdout"
        },
        {
          "output_type": "execute_result",
          "data": {
            "text/html": [
              "<div>\n",
              "<style scoped>\n",
              "    .dataframe tbody tr th:only-of-type {\n",
              "        vertical-align: middle;\n",
              "    }\n",
              "\n",
              "    .dataframe tbody tr th {\n",
              "        vertical-align: top;\n",
              "    }\n",
              "\n",
              "    .dataframe thead th {\n",
              "        text-align: right;\n",
              "    }\n",
              "</style>\n",
              "<table border=\"1\" class=\"dataframe\">\n",
              "  <thead>\n",
              "    <tr style=\"text-align: right;\">\n",
              "      <th></th>\n",
              "      <th>Col1</th>\n",
              "      <th>Col2</th>\n",
              "      <th>Col3</th>\n",
              "      <th>Col4</th>\n",
              "      <th>Col5</th>\n",
              "      <th>Col6</th>\n",
              "      <th>Col7</th>\n",
              "      <th>Col8</th>\n",
              "      <th>Col9</th>\n",
              "      <th>Col10</th>\n",
              "      <th>Target</th>\n",
              "    </tr>\n",
              "  </thead>\n",
              "  <tbody>\n",
              "    <tr>\n",
              "      <th>0</th>\n",
              "      <td>1.1</td>\n",
              "      <td>1.1</td>\n",
              "      <td>1.1</td>\n",
              "      <td>1.1</td>\n",
              "      <td>1.1</td>\n",
              "      <td>1.1</td>\n",
              "      <td>1.1</td>\n",
              "      <td>1.1</td>\n",
              "      <td>1.1</td>\n",
              "      <td>1.1</td>\n",
              "      <td>39343</td>\n",
              "    </tr>\n",
              "    <tr>\n",
              "      <th>1</th>\n",
              "      <td>1.3</td>\n",
              "      <td>1.3</td>\n",
              "      <td>1.3</td>\n",
              "      <td>1.3</td>\n",
              "      <td>1.3</td>\n",
              "      <td>1.3</td>\n",
              "      <td>1.3</td>\n",
              "      <td>1.3</td>\n",
              "      <td>1.3</td>\n",
              "      <td>1.3</td>\n",
              "      <td>46205</td>\n",
              "    </tr>\n",
              "    <tr>\n",
              "      <th>2</th>\n",
              "      <td>1.5</td>\n",
              "      <td>1.5</td>\n",
              "      <td>1.5</td>\n",
              "      <td>1.5</td>\n",
              "      <td>1.5</td>\n",
              "      <td>1.5</td>\n",
              "      <td>1.5</td>\n",
              "      <td>1.5</td>\n",
              "      <td>1.5</td>\n",
              "      <td>1.5</td>\n",
              "      <td>37731</td>\n",
              "    </tr>\n",
              "    <tr>\n",
              "      <th>3</th>\n",
              "      <td>2.0</td>\n",
              "      <td>2.0</td>\n",
              "      <td>2.0</td>\n",
              "      <td>2.0</td>\n",
              "      <td>2.0</td>\n",
              "      <td>2.0</td>\n",
              "      <td>2.0</td>\n",
              "      <td>2.0</td>\n",
              "      <td>2.0</td>\n",
              "      <td>2.0</td>\n",
              "      <td>43525</td>\n",
              "    </tr>\n",
              "    <tr>\n",
              "      <th>4</th>\n",
              "      <td>2.2</td>\n",
              "      <td>2.2</td>\n",
              "      <td>2.2</td>\n",
              "      <td>2.2</td>\n",
              "      <td>2.2</td>\n",
              "      <td>2.2</td>\n",
              "      <td>2.2</td>\n",
              "      <td>2.2</td>\n",
              "      <td>2.2</td>\n",
              "      <td>2.2</td>\n",
              "      <td>39891</td>\n",
              "    </tr>\n",
              "  </tbody>\n",
              "</table>\n",
              "</div>"
            ],
            "text/plain": [
              "   Col1  Col2  Col3  Col4  Col5  Col6  Col7  Col8  Col9  Col10  Target\n",
              "0   1.1   1.1   1.1   1.1   1.1   1.1   1.1   1.1   1.1    1.1   39343\n",
              "1   1.3   1.3   1.3   1.3   1.3   1.3   1.3   1.3   1.3    1.3   46205\n",
              "2   1.5   1.5   1.5   1.5   1.5   1.5   1.5   1.5   1.5    1.5   37731\n",
              "3   2.0   2.0   2.0   2.0   2.0   2.0   2.0   2.0   2.0    2.0   43525\n",
              "4   2.2   2.2   2.2   2.2   2.2   2.2   2.2   2.2   2.2    2.2   39891"
            ]
          },
          "metadata": {
            "tags": []
          },
          "execution_count": 32
        }
      ]
    },
    {
      "cell_type": "code",
      "metadata": {
        "id": "vMyskpJm9XBV",
        "colab_type": "code",
        "colab": {
          "base_uri": "https://localhost:8080/",
          "height": 212
        },
        "outputId": "71143530-cd36-41ae-83c6-f0b75cbca328"
      },
      "source": [
        "print(\"*************New dataframe************\")\n",
        "new.head()"
      ],
      "execution_count": 33,
      "outputs": [
        {
          "output_type": "stream",
          "text": [
            "*************New dataframe************\n"
          ],
          "name": "stdout"
        },
        {
          "output_type": "execute_result",
          "data": {
            "text/html": [
              "<div>\n",
              "<style scoped>\n",
              "    .dataframe tbody tr th:only-of-type {\n",
              "        vertical-align: middle;\n",
              "    }\n",
              "\n",
              "    .dataframe tbody tr th {\n",
              "        vertical-align: top;\n",
              "    }\n",
              "\n",
              "    .dataframe thead th {\n",
              "        text-align: right;\n",
              "    }\n",
              "</style>\n",
              "<table border=\"1\" class=\"dataframe\">\n",
              "  <thead>\n",
              "    <tr style=\"text-align: right;\">\n",
              "      <th></th>\n",
              "      <th>Col4</th>\n",
              "      <th>Col5</th>\n",
              "      <th>Col6</th>\n",
              "      <th>Col7</th>\n",
              "      <th>Col8</th>\n",
              "      <th>Col9</th>\n",
              "      <th>Col10</th>\n",
              "      <th>Target</th>\n",
              "    </tr>\n",
              "  </thead>\n",
              "  <tbody>\n",
              "    <tr>\n",
              "      <th>0</th>\n",
              "      <td>1.1</td>\n",
              "      <td>1.1</td>\n",
              "      <td>1.1</td>\n",
              "      <td>1.1</td>\n",
              "      <td>1.1</td>\n",
              "      <td>1.1</td>\n",
              "      <td>1.1</td>\n",
              "      <td>39343</td>\n",
              "    </tr>\n",
              "    <tr>\n",
              "      <th>1</th>\n",
              "      <td>1.3</td>\n",
              "      <td>1.3</td>\n",
              "      <td>1.3</td>\n",
              "      <td>1.3</td>\n",
              "      <td>1.3</td>\n",
              "      <td>1.3</td>\n",
              "      <td>1.3</td>\n",
              "      <td>46205</td>\n",
              "    </tr>\n",
              "    <tr>\n",
              "      <th>2</th>\n",
              "      <td>1.5</td>\n",
              "      <td>1.5</td>\n",
              "      <td>1.5</td>\n",
              "      <td>1.5</td>\n",
              "      <td>1.5</td>\n",
              "      <td>1.5</td>\n",
              "      <td>1.5</td>\n",
              "      <td>37731</td>\n",
              "    </tr>\n",
              "    <tr>\n",
              "      <th>3</th>\n",
              "      <td>2.0</td>\n",
              "      <td>2.0</td>\n",
              "      <td>2.0</td>\n",
              "      <td>2.0</td>\n",
              "      <td>2.0</td>\n",
              "      <td>2.0</td>\n",
              "      <td>2.0</td>\n",
              "      <td>43525</td>\n",
              "    </tr>\n",
              "    <tr>\n",
              "      <th>4</th>\n",
              "      <td>2.2</td>\n",
              "      <td>2.2</td>\n",
              "      <td>2.2</td>\n",
              "      <td>2.2</td>\n",
              "      <td>2.2</td>\n",
              "      <td>2.2</td>\n",
              "      <td>2.2</td>\n",
              "      <td>39891</td>\n",
              "    </tr>\n",
              "  </tbody>\n",
              "</table>\n",
              "</div>"
            ],
            "text/plain": [
              "   Col4  Col5  Col6  Col7  Col8  Col9  Col10  Target\n",
              "0   1.1   1.1   1.1   1.1   1.1   1.1    1.1   39343\n",
              "1   1.3   1.3   1.3   1.3   1.3   1.3    1.3   46205\n",
              "2   1.5   1.5   1.5   1.5   1.5   1.5    1.5   37731\n",
              "3   2.0   2.0   2.0   2.0   2.0   2.0    2.0   43525\n",
              "4   2.2   2.2   2.2   2.2   2.2   2.2    2.2   39891"
            ]
          },
          "metadata": {
            "tags": []
          },
          "execution_count": 33
        }
      ]
    },
    {
      "cell_type": "code",
      "metadata": {
        "id": "fyhajVMI_8hF",
        "colab_type": "code",
        "colab": {}
      },
      "source": [
        ""
      ],
      "execution_count": null,
      "outputs": []
    }
  ]
}